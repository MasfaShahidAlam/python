{
 "cells": [
  {
   "cell_type": "code",
   "execution_count": null,
   "id": "17be9c78",
   "metadata": {},
   "outputs": [
    {
     "name": "stdout",
     "output_type": "stream",
     "text": [
      "[18, 89.8, True]\n"
     ]
    }
   ],
   "source": [
    "#Task1 consider of your choice and print last three elements, print starting three elements\n",
    "\n",
    "my_list = [\"Masfa\", 18, 89.8, True]\n",
    "print(my_list[-3:]) # prints last three elements\n",
    "print(my_list[:3])  # prints first three elements\n",
    "\n"
   ]
  },
  {
   "cell_type": "code",
   "execution_count": 3,
   "id": "bc4281b0",
   "metadata": {},
   "outputs": [
    {
     "name": "stdout",
     "output_type": "stream",
     "text": [
      "['Masfa', 25, 89.8, True]\n"
     ]
    }
   ],
   "source": [
    "#Task 2 Replace 2nd elements of your considered list with \"25\" integers\n",
    "\n",
    "my_list[1] = 25\n",
    "print(my_list)"
   ]
  },
  {
   "cell_type": "code",
   "execution_count": 4,
   "id": "6ae63862",
   "metadata": {},
   "outputs": [
    {
     "name": "stdout",
     "output_type": "stream",
     "text": [
      "Banana\n"
     ]
    }
   ],
   "source": [
    "#Task 3 Create a list of your favourite fruit and print second fruit \n",
    "fruits = [\"Apple\", \"Banana\", \"Mango\", \"Orange\"]\n",
    "print(fruits[1])"
   ]
  },
  {
   "cell_type": "code",
   "execution_count": 6,
   "id": "217ad10a",
   "metadata": {},
   "outputs": [
    {
     "name": "stdout",
     "output_type": "stream",
     "text": [
      "['Apple', 'Banana', 'Mango', 'Orange', 'Grapes', 'Grapes']\n"
     ]
    }
   ],
   "source": [
    "#Task 4 Add grapes to the list and print the update list \n",
    "fruits.append(\"Grapes\")\n",
    "print(fruits)"
   ]
  },
  {
   "cell_type": "code",
   "execution_count": 7,
   "id": "27f8852c",
   "metadata": {},
   "outputs": [
    {
     "name": "stdout",
     "output_type": "stream",
     "text": [
      "['Banana', 'Mango', 'Orange', 'Grapes', 'Grapes']\n"
     ]
    }
   ],
   "source": [
    "#TAsk 5 Remove firs food and show result \n",
    "fruits.remove(\"Apple\")\n",
    "print(fruits)"
   ]
  },
  {
   "cell_type": "code",
   "execution_count": 11,
   "id": "1c198106",
   "metadata": {},
   "outputs": [
    {
     "name": "stdout",
     "output_type": "stream",
     "text": [
      "3\n"
     ]
    }
   ],
   "source": [
    "#Task6 Count how many times apple appear in your list \n",
    "fruits = [\"apples\", \"banana\", \"apples\", \"grapes\", \"orange\",\"apples\"]\n",
    "print(fruits.count(\"apples\"))"
   ]
  },
  {
   "cell_type": "code",
   "execution_count": 25,
   "id": "cd0cb4e6",
   "metadata": {},
   "outputs": [
    {
     "name": "stdout",
     "output_type": "stream",
     "text": [
      "['masfa', 18, 89.8, True, 'apple', 'banana', 'orange']\n",
      "['masfa', 14, 18, 89.8, True, 'apple', 'banana', 'orange']\n",
      "['masfa', 14, 18, 89.8, True, 'apple', 'banana', 'orange', 'grape', 'kiwi']\n",
      "['masfa', 14, 18, 89.8, True, 'apple', 'orange', 'grape', 'kiwi']\n",
      "['masfa', 14, 89.8, True, 'apple', 'orange', 'grape', 'kiwi']\n",
      "[]\n",
      "4\n",
      "1\n",
      "[1, 2, 5, 5, 6, 9]\n",
      "[9, 6, 5, 5, 2, 1]\n"
     ]
    }
   ],
   "source": [
    "#Task 8 10 method in list\n",
    "list_methods = [\"masfa\", 18, 89.8, True, \"apple\", \"banana\"]\n",
    "#1. append() - Adds an element to the end of the list.\n",
    "list_methods.append(\"orange\")\n",
    "print(list_methods)\n",
    "#2. insert() - Inserts an element at a specified position.\n",
    "list_methods.insert(1,14)\n",
    "print(list_methods)\n",
    "#3. extend() - Extends the list by appending elements from another iterable.\n",
    "list_methods.extend([\"grape\", \"kiwi\"])\n",
    "print(list_methods)\n",
    "#4. remove() - Removes the first occurrence of a specified element.\n",
    "list_methods.remove(\"banana\")\n",
    "print(list_methods)\n",
    "#5. pop() - Removes and returns the element at a specified position (default is the last element).\n",
    "list_methods.pop(2)\n",
    "print(list_methods)\n",
    "#6. clear() - Removes all elements from the list.\n",
    "list_methods.clear()\n",
    "print(list_methods)\n",
    "#7. index() - Returns the index of the first occurrence of a specified element.\n",
    "list_methods = [\"masfa\", 18, 89.8, True, \"apple\", \"banana\"]\n",
    "print(list_methods.index(\"apple\"))\n",
    "#8. count() - Returns the number of occurrences of a specified element in the list.\n",
    "print(list_methods.count(\"masfa\"))\n",
    "#9. sort() - Sorts the elements of the list in ascending order.\n",
    "numbers = [5, 2, 9, 1, 5, 6]\n",
    "numbers.sort()\n",
    "print(numbers)\n",
    "#10. reverse() - Reverses the order of the elements in the list.\n",
    "numbers.reverse()\n",
    "print(numbers)"
   ]
  },
  {
   "cell_type": "code",
   "execution_count": null,
   "id": "bda54edf",
   "metadata": {},
   "outputs": [],
   "source": [
    "\n"
   ]
  }
 ],
 "metadata": {
  "kernelspec": {
   "display_name": ".venv",
   "language": "python",
   "name": "python3"
  },
  "language_info": {
   "codemirror_mode": {
    "name": "ipython",
    "version": 3
   },
   "file_extension": ".py",
   "mimetype": "text/x-python",
   "name": "python",
   "nbconvert_exporter": "python",
   "pygments_lexer": "ipython3",
   "version": "3.13.7"
  }
 },
 "nbformat": 4,
 "nbformat_minor": 5
}
