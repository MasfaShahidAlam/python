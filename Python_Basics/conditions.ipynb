{
 "cells": [
  {
   "cell_type": "code",
   "execution_count": 1,
   "id": "f6e994ea",
   "metadata": {},
   "outputs": [
    {
     "name": "stdout",
     "output_type": "stream",
     "text": [
      "C grade\n"
     ]
    }
   ],
   "source": [
    "#Task1 Write a program to assigned grade based on their marks \n",
    "\"\"\"if percentage is above 90 assigned a grade \n",
    "if percentage is above 75 assigned b grade\n",
    "if percentage is above 65 assigned c grade\"\"\"\n",
    "\n",
    "marks = int(input(\"ENter your marrks\"))\n",
    "if marks > 90:\n",
    "    print(\"A grade\")\n",
    "elif marks > 75:\n",
    "    print(\"B grade\")\n",
    "elif marks > 65:\n",
    "    print(\"C grade\")"
   ]
  },
  {
   "cell_type": "code",
   "execution_count": 5,
   "id": "e0fcd857",
   "metadata": {},
   "outputs": [
    {
     "name": "stdout",
     "output_type": "stream",
     "text": [
      "Negative number\n"
     ]
    }
   ],
   "source": [
    "#TAsk 2 Write a program to check whether the given number is positive or negative\n",
    "num = int(input(\"Enter a number\"))\n",
    "if num > 0:\n",
    "     print(\"Positive number\")\n",
    "elif num < 0:\n",
    "         print(\"Negative number\")\n",
    "\n",
    "else:\n",
    "    print(\"It is zero\")\n",
    "\n",
    "\n"
   ]
  },
  {
   "cell_type": "code",
   "execution_count": 9,
   "id": "4cb58674",
   "metadata": {},
   "outputs": [
    {
     "name": "stdout",
     "output_type": "stream",
     "text": [
      "Odd number\n"
     ]
    }
   ],
   "source": [
    "#Task 3 Write a program to check whether the given number is even or odd\n",
    "num_1 = int(input(\"Enter a number\"))\n",
    "if num_1 % 2 == 0:\n",
    "    print(\"Even number\")\n",
    "else:    \n",
    "    print(\"Odd number\")"
   ]
  },
  {
   "cell_type": "code",
   "execution_count": 16,
   "id": "27183f34",
   "metadata": {},
   "outputs": [
    {
     "name": "stdout",
     "output_type": "stream",
     "text": [
      "Not a prime number\n"
     ]
    }
   ],
   "source": [
    "#Task 4 Write a program to check whether the num is prime or not\n",
    "num_2 = int(input(\"Enter a number\"))\n",
    "if num_2 > 1:\n",
    "    for i in range(2,num_2):\n",
    "        if (num_2 % i) == 0:\n",
    "            print(\"Not a prime number\")\n",
    "            break\n",
    "    else:\n",
    "        print(\"It is a prime number\")\n",
    "        "
   ]
  },
  {
   "cell_type": "code",
   "execution_count": 20,
   "id": "712e2d26",
   "metadata": {},
   "outputs": [],
   "source": [
    "#task 5 write a program print hello if number is divisible by 7\n",
    "num_7 = int (input(\"Write a number:\"))\n",
    "if num_7 % 7 == 0:\n",
    "    print(\"Hello\")\n"
   ]
  },
  {
   "cell_type": "code",
   "execution_count": 26,
   "id": "02b861a2",
   "metadata": {},
   "outputs": [
    {
     "name": "stdout",
     "output_type": "stream",
     "text": [
      "2\n"
     ]
    }
   ],
   "source": [
    "#task 6 write a programto print lowest value of user input\n",
    "num_a = int(input(\"Enter first number:\"))\n",
    "num_b = int(input(\"Enter second number:\"))\n",
    "if num_a < num_b:\n",
    " print(num_a)\n",
    "elif num_b < num_a:\n",
    " print(num_b)"
   ]
  },
  {
   "cell_type": "code",
   "execution_count": null,
   "id": "c32079eb",
   "metadata": {},
   "outputs": [
    {
     "name": "stdout",
     "output_type": "stream",
     "text": [
      "It is a vowel\n"
     ]
    }
   ],
   "source": [
    "#task 7 write a program to see the  character is vowel or consonant\n",
    "char = input(\"Enter a character:\")\n",
    "if char in ('a','e','i','o','u','A','E','I','O','U'):\n",
    "    print(\"It is a vowel\")\n",
    "else:\n",
    "    print(\"It is a consonant\")"
   ]
  },
  {
   "cell_type": "code",
   "execution_count": 28,
   "id": "616d98e0",
   "metadata": {},
   "outputs": [
    {
     "name": "stdout",
     "output_type": "stream",
     "text": [
      "It is not a right angled triangle\n"
     ]
    }
   ],
   "source": [
    "#task 8 write  a that takes side of triangle as it is right angled or not\n",
    "side_1 = int(input(\"Enter first side of triangle:\"))\n",
    "side_2 = int(input(\"Enter second side of triangle:\"))\n",
    "side_3 = int(input(\"Enter third side of triangle:\"))\n",
    "if (side_1**2 + side_2**2) == side_3**2 or (side_2**2 + side_3**2) == side_1**2 or (side_1**2 + side_3**2) == side_2**2:\n",
    "    print(\"It is a right angled triangle\")\n",
    "else:\n",
    "    print(\"It is not a right angled triangle\")"
   ]
  },
  {
   "cell_type": "code",
   "execution_count": 29,
   "id": "2ae89817",
   "metadata": {},
   "outputs": [
    {
     "name": "stdout",
     "output_type": "stream",
     "text": [
      "The roots are complex and different\n"
     ]
    }
   ],
   "source": [
    "#Task 9 write a program that solve quardratic equation  and pprint output it the roots are real \n",
    "a = int(input(\"Enter a:\"))\n",
    "b = int(input(\"Enter b:\"))\n",
    "c = int(input(\"Enter c:\"))\n",
    "d = (b**2) - (4*a*c)\n",
    "if d > 0:\n",
    "    root_1 = (-b + d**0.5) / (2*a)\n",
    "    root_2 = (-b - d**0.5) / (2*a)\n",
    "    print(\"The roots are real and different\")\n",
    "    print(\"Root 1:\", root_1)\n",
    "    print(\"Root 2:\", root_2)\n",
    "elif d == 0:\n",
    "    root = -b / (2*a)\n",
    "    print(\"The roots are real and same\")\n",
    "    print(\"Root:\", root)\n",
    "else:\n",
    "    print(\"The roots are complex and different\")\n",
    "\n",
    "    "
   ]
  },
  {
   "cell_type": "code",
   "execution_count": null,
   "id": "670e2512",
   "metadata": {},
   "outputs": [],
   "source": [
    "#Task 11 Write a program that takes password from user  validate the password password lenth  between 7 to 15  with contain atleast one numeric \n",
    "#and speacial character \n",
    "user_pass = input (\"Enter a password:\")\n",
    "if len(user_pass) < 7 or len(user_pass) > 15:\n",
    "    print(\"Password length should be between 7 to 15 characters\")\n",
    "    "
   ]
  }
 ],
 "metadata": {
  "kernelspec": {
   "display_name": ".venv",
   "language": "python",
   "name": "python3"
  },
  "language_info": {
   "codemirror_mode": {
    "name": "ipython",
    "version": 3
   },
   "file_extension": ".py",
   "mimetype": "text/x-python",
   "name": "python",
   "nbconvert_exporter": "python",
   "pygments_lexer": "ipython3",
   "version": "3.13.7"
  }
 },
 "nbformat": 4,
 "nbformat_minor": 5
}
