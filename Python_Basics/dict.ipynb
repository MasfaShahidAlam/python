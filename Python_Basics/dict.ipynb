{
 "cells": [
  {
   "cell_type": "code",
   "execution_count": 14,
   "id": "f4e154fd",
   "metadata": {},
   "outputs": [
    {
     "name": "stdout",
     "output_type": "stream",
     "text": [
      "dict_keys(['Name', 'Age', 'Height', 'Student'])\n",
      "dict_values(['Masfa', 18, 5.8, True])\n",
      "dict_items([('Name', 'Masfa'), ('Age', 18), ('Height', 5.8), ('Student', True)])\n",
      "Masfa\n",
      "18\n",
      "{'Name': 'Masfa', 'Height': 5.8, 'Student': True}\n",
      "('Student', True)\n",
      "{'Name': 'Masfa', 'Height': 5.8}\n",
      "{}\n",
      "{'Name': 'Masfa', 'Age': 19, 'Height': 5.8, 'Student': True}\n"
     ]
    }
   ],
   "source": [
    "#Task 1\n",
    "#using .keys() method to print all the keys of the dictionary\n",
    "myDict = {\"Name\" : \"Masfa\", \"Age\": 18, \"Height\": 5.8, \"Student\": True}\n",
    "print(myDict.keys())\n",
    "#using .values() method to print all the values of the dictionary\n",
    "print(myDict.values())\n",
    "#using .items() method to print all the items of the dictionary\n",
    "print(myDict.items())\n",
    "#using .get() method to print the value of a specific key\n",
    "print(myDict.get(\"Name\"))\n",
    "#using pop() method to remove a specific key-value pair from the dictionary\n",
    "print(myDict.pop(\"Age\"))\n",
    "print(myDict)\n",
    "#using popitem() method to remove the last inserted key-value pair from the dictionary\n",
    "print(myDict.popitem())\n",
    "print(myDict)\n",
    "#using clear() method to remove all items from the dictionary\n",
    "myDict.clear()\n",
    "print(myDict)\n",
    "#using update() method to update the value of a specific key\n",
    "myDict = {\"Name\" : \"Masfa\", \"Age\": 18, \"Height\": 5.8, \"Student\": True}\n",
    "myDict.update({\"Age\": 19})\n",
    "print(myDict)\n"
   ]
  },
  {
   "cell_type": "code",
   "execution_count": null,
   "id": "6fedb859",
   "metadata": {},
   "outputs": [],
   "source": []
  }
 ],
 "metadata": {
  "kernelspec": {
   "display_name": ".venv",
   "language": "python",
   "name": "python3"
  },
  "language_info": {
   "codemirror_mode": {
    "name": "ipython",
    "version": 3
   },
   "file_extension": ".py",
   "mimetype": "text/x-python",
   "name": "python",
   "nbconvert_exporter": "python",
   "pygments_lexer": "ipython3",
   "version": "3.13.7"
  }
 },
 "nbformat": 4,
 "nbformat_minor": 5
}
